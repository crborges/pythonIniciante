{
  "nbformat": 4,
  "nbformat_minor": 0,
  "metadata": {
    "colab": {
      "name": "googleColabHello.ipynb",
      "provenance": [],
      "authorship_tag": "ABX9TyOdOWExlBxMqXVVk9oKSKa0",
      "include_colab_link": true
    },
    "kernelspec": {
      "name": "python3",
      "display_name": "Python 3"
    },
    "language_info": {
      "name": "python"
    }
  },
  "cells": [
    {
      "cell_type": "markdown",
      "metadata": {
        "id": "view-in-github",
        "colab_type": "text"
      },
      "source": [
        "<a href=\"https://colab.research.google.com/github/crborges/pythonIniciante/blob/iniciante/googleColabHello.ipynb\" target=\"_parent\"><img src=\"https://colab.research.google.com/assets/colab-badge.svg\" alt=\"Open In Colab\"/></a>"
      ]
    },
    {
      "cell_type": "code",
      "metadata": {
        "colab": {
          "base_uri": "https://localhost:8080/"
        },
        "id": "pNPJiJptvkV9",
        "outputId": "72755feb-1b7a-4827-f3e9-38e79e992ffb"
      },
      "source": [
        "print('Ola mundo')\n",
        "\n",
        "var_1=1                    # Var do tipo inteiro\n",
        "var_2=1.1                  # Var do tipo float \n",
        "var_3=\"Eu sou uma string\"  # Var do tipo string\n",
        "var_4 = True               # Var do tipo boolean True ou False \n",
        "print (var_1)\n",
        "print (var_2)\n",
        "print (var_3)\n",
        "print (var_4)\n",
        "if var_4: \n",
        "    print ('Var 4 eh true ')\n",
        "else :\n",
        "    print ('Var 4 eh false ')\n",
        "    \n",
        "\n",
        "x =1 \n",
        "y =100000000 \n",
        "z =3 \n",
        "if x > y:\n",
        "    print(\"X é maior que Y\")\n",
        "else : \n",
        "    print ('x é menor que Y')\n",
        "    \n",
        "if y>x:\n",
        "    print(\"Y é maior que X\")\n",
        "else:    \n",
        "    print ('Y é menor que X')\n",
        " \n"
      ],
      "execution_count": 3,
      "outputs": [
        {
          "output_type": "stream",
          "name": "stdout",
          "text": [
            "Ola mundo\n",
            "1\n",
            "1.1\n",
            "Eu sou uma string\n",
            "True\n",
            "Var 4 eh true \n",
            "x é menor que Y\n",
            "Y é maior que X\n"
          ]
        }
      ]
    }
  ]
}