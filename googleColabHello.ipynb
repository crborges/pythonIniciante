{
  "nbformat": 4,
  "nbformat_minor": 0,
  "metadata": {
    "colab": {
      "name": "googleColabHello.ipynb",
      "provenance": [],
      "authorship_tag": "ABX9TyM+giF/yg25/KcKTUNOWRSn",
      "include_colab_link": true
    },
    "kernelspec": {
      "name": "python3",
      "display_name": "Python 3"
    },
    "language_info": {
      "name": "python"
    }
  },
  "cells": [
    {
      "cell_type": "markdown",
      "metadata": {
        "id": "view-in-github",
        "colab_type": "text"
      },
      "source": [
        "<a href=\"https://colab.research.google.com/github/crborges/pythonIniciante/blob/iniciante/googleColabHello.ipynb\" target=\"_parent\"><img src=\"https://colab.research.google.com/assets/colab-badge.svg\" alt=\"Open In Colab\"/></a>"
      ]
    },
    {
      "cell_type": "code",
      "metadata": {
        "colab": {
          "base_uri": "https://localhost:8080/",
          "height": 164
        },
        "id": "pNPJiJptvkV9",
        "outputId": "83fb22ea-4ad6-4c04-b802-b019af01409c"
      },
      "source": [
        "print('Ola mundo')\n",
        "\n",
        "var_1=1                    # Var do tipo inteiro\n",
        "var_2=1.1                  # Var do tipo float \n",
        "var_3=\"Eu sou uma string\"  # Var do tipo string\n",
        "var_4 = True               # Var do tipo boolean True ou False \n",
        "print (var_1)\n",
        "print (var_2)\n",
        "print (var_3)\n",
        "print (var_4)\n",
        "if var_4: \n",
        "    print ('Var 4 eh true ')\n",
        "else :\n",
        "    print ('Var 4 eh false ')\n",
        "    \n",
        "\"\"\"\n",
        "    Operadores relacionais\n",
        "        ==   - Igual a \n",
        "        !=   - Diferente de \n",
        "        >    - Maior que\n",
        "        <    - Menor que \n",
        "        >=   - Maior ou igual que\n",
        "        <=   - Menor ou igual que\n",
        "\"\"\"  \n"
      ],
      "execution_count": 2,
      "outputs": [
        {
          "output_type": "stream",
          "name": "stdout",
          "text": [
            "Ola mundo\n",
            "1\n",
            "1.1\n",
            "Eu sou uma string\n",
            "True\n",
            "Var 4 eh true \n"
          ]
        },
        {
          "output_type": "execute_result",
          "data": {
            "application/vnd.google.colaboratory.intrinsic+json": {
              "type": "string"
            },
            "text/plain": [
              "'\\n    Operadores relacionais\\n        ==   - Igual a \\n        !=   - Diferente de \\n        >    - Maior que\\n        <    - Menor que \\n        >=   - Maior ou igual que\\n        <=   - Menor ou igual que\\n'"
            ]
          },
          "metadata": {},
          "execution_count": 2
        }
      ]
    }
  ]
}